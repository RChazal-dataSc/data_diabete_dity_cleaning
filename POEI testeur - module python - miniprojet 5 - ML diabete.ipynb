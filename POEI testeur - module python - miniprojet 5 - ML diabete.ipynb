{
 "cells": [
  {
   "cell_type": "code",
   "execution_count": null,
   "id": "3c84e24a",
   "metadata": {},
   "outputs": [],
   "source": [
    "#Mini projet 5 : Machine learning\n",
    "\n",
    "#Dans ce derniers exercices nous allons faire un traitement des données du fichier dirty_diabetes_data.csv \n",
    "# afin qu’elles soient compatibles avec un algorithme de type DecisionTreeClassifier. \n",
    "# Cet algorithme devra prédire si un individu est diabétique ou non.\n",
    "# La partie propre au machine learning vous sera fourni dans le fichier ML_diabete.py pour\n",
    "# votre culture générale et afin de voir le résultat concret de votre travail."
   ]
  },
  {
   "cell_type": "code",
   "execution_count": null,
   "id": "b828c08d",
   "metadata": {},
   "outputs": [],
   "source": [
    "#Appropriation des données :\n",
    "#Ouvrir le fichier avec pandas et prenez connaissance des données avec les fonctions classiques \n",
    "# de résumé d’information d’un dataset\n",
    "#Affichez le nombre de valeur nulle par colonne \n",
    "#Afficher si les 10 premières colonnes sont des valeurs dupliquées dans le set de données\n",
    "#Afficher un bloxplot avec les colonnes du set de données. Cela vous indiquera si vos données\n",
    "# suivent une répartition normale ou non (ici ce n’est pas le cas)\n"
   ]
  },
  {
   "cell_type": "code",
   "execution_count": 306,
   "id": "c0bc8eff",
   "metadata": {},
   "outputs": [],
   "source": [
    "import pandas as pd\n",
    "import numpy as np\n",
    "import seaborn as sns\n",
    "import matplotlib.pyplot as plt"
   ]
  },
  {
   "cell_type": "code",
   "execution_count": 307,
   "id": "29d035af",
   "metadata": {},
   "outputs": [
    {
     "data": {
      "text/html": [
       "<div>\n",
       "<style scoped>\n",
       "    .dataframe tbody tr th:only-of-type {\n",
       "        vertical-align: middle;\n",
       "    }\n",
       "\n",
       "    .dataframe tbody tr th {\n",
       "        vertical-align: top;\n",
       "    }\n",
       "\n",
       "    .dataframe thead th {\n",
       "        text-align: right;\n",
       "    }\n",
       "</style>\n",
       "<table border=\"1\" class=\"dataframe\">\n",
       "  <thead>\n",
       "    <tr style=\"text-align: right;\">\n",
       "      <th></th>\n",
       "      <th>gender</th>\n",
       "      <th>blood_type</th>\n",
       "      <th>pregnancies</th>\n",
       "      <th>glucose</th>\n",
       "      <th>diastolic</th>\n",
       "      <th>triceps</th>\n",
       "      <th>insulin</th>\n",
       "      <th>bmi</th>\n",
       "      <th>dpf</th>\n",
       "      <th>age</th>\n",
       "      <th>Outcome</th>\n",
       "    </tr>\n",
       "  </thead>\n",
       "  <tbody>\n",
       "    <tr>\n",
       "      <th>0</th>\n",
       "      <td>Male</td>\n",
       "      <td>A</td>\n",
       "      <td>6</td>\n",
       "      <td>148.0</td>\n",
       "      <td>72.0</td>\n",
       "      <td>35.0</td>\n",
       "      <td>0.0</td>\n",
       "      <td>33.6</td>\n",
       "      <td>0.627</td>\n",
       "      <td>50.0</td>\n",
       "      <td>1</td>\n",
       "    </tr>\n",
       "    <tr>\n",
       "      <th>1</th>\n",
       "      <td>Male</td>\n",
       "      <td>A</td>\n",
       "      <td>1</td>\n",
       "      <td>85.0</td>\n",
       "      <td>66.0</td>\n",
       "      <td>29.0</td>\n",
       "      <td>0.0</td>\n",
       "      <td>26.6</td>\n",
       "      <td>0.351</td>\n",
       "      <td>31.0</td>\n",
       "      <td>0</td>\n",
       "    </tr>\n",
       "    <tr>\n",
       "      <th>2</th>\n",
       "      <td>Female</td>\n",
       "      <td>B</td>\n",
       "      <td>8</td>\n",
       "      <td>183.0</td>\n",
       "      <td>64.0</td>\n",
       "      <td>0.0</td>\n",
       "      <td>0.0</td>\n",
       "      <td>23.3</td>\n",
       "      <td>0.672</td>\n",
       "      <td>32.0</td>\n",
       "      <td>1</td>\n",
       "    </tr>\n",
       "    <tr>\n",
       "      <th>3</th>\n",
       "      <td>Male</td>\n",
       "      <td>A</td>\n",
       "      <td>1</td>\n",
       "      <td>89.0</td>\n",
       "      <td>66.0</td>\n",
       "      <td>23.0</td>\n",
       "      <td>94.0</td>\n",
       "      <td>28.1</td>\n",
       "      <td>0.167</td>\n",
       "      <td>21.0</td>\n",
       "      <td>0</td>\n",
       "    </tr>\n",
       "    <tr>\n",
       "      <th>4</th>\n",
       "      <td>Male</td>\n",
       "      <td>AB</td>\n",
       "      <td>0</td>\n",
       "      <td>137.0</td>\n",
       "      <td>40.0</td>\n",
       "      <td>35.0</td>\n",
       "      <td>168.0</td>\n",
       "      <td>43.1</td>\n",
       "      <td>2.288</td>\n",
       "      <td>33.0</td>\n",
       "      <td>1</td>\n",
       "    </tr>\n",
       "    <tr>\n",
       "      <th>5</th>\n",
       "      <td>Female</td>\n",
       "      <td>A</td>\n",
       "      <td>5</td>\n",
       "      <td>116.0</td>\n",
       "      <td>74.0</td>\n",
       "      <td>0.0</td>\n",
       "      <td>0.0</td>\n",
       "      <td>25.6</td>\n",
       "      <td>0.201</td>\n",
       "      <td>30.0</td>\n",
       "      <td>0</td>\n",
       "    </tr>\n",
       "    <tr>\n",
       "      <th>6</th>\n",
       "      <td>Male</td>\n",
       "      <td>B</td>\n",
       "      <td>3</td>\n",
       "      <td>78.0</td>\n",
       "      <td>50.0</td>\n",
       "      <td>32.0</td>\n",
       "      <td>88.0</td>\n",
       "      <td>31.0</td>\n",
       "      <td>0.248</td>\n",
       "      <td>26.0</td>\n",
       "      <td>1</td>\n",
       "    </tr>\n",
       "    <tr>\n",
       "      <th>7</th>\n",
       "      <td>Male</td>\n",
       "      <td>B</td>\n",
       "      <td>10</td>\n",
       "      <td>115.0</td>\n",
       "      <td>0.0</td>\n",
       "      <td>0.0</td>\n",
       "      <td>0.0</td>\n",
       "      <td>35.3</td>\n",
       "      <td>0.134</td>\n",
       "      <td>29.0</td>\n",
       "      <td>0</td>\n",
       "    </tr>\n",
       "    <tr>\n",
       "      <th>8</th>\n",
       "      <td>Male</td>\n",
       "      <td>O</td>\n",
       "      <td>2</td>\n",
       "      <td>197.0</td>\n",
       "      <td>70.0</td>\n",
       "      <td>45.0</td>\n",
       "      <td>543.0</td>\n",
       "      <td>30.5</td>\n",
       "      <td>0.158</td>\n",
       "      <td>53.0</td>\n",
       "      <td>1</td>\n",
       "    </tr>\n",
       "    <tr>\n",
       "      <th>9</th>\n",
       "      <td>Female</td>\n",
       "      <td>O</td>\n",
       "      <td>8</td>\n",
       "      <td>125.0</td>\n",
       "      <td>96.0</td>\n",
       "      <td>0.0</td>\n",
       "      <td>0.0</td>\n",
       "      <td>0.0</td>\n",
       "      <td>0.232</td>\n",
       "      <td>54.0</td>\n",
       "      <td>1</td>\n",
       "    </tr>\n",
       "  </tbody>\n",
       "</table>\n",
       "</div>"
      ],
      "text/plain": [
       "   gender blood_type  pregnancies  glucose  diastolic  triceps  insulin   bmi  \\\n",
       "0    Male          A            6    148.0       72.0     35.0      0.0  33.6   \n",
       "1    Male          A            1     85.0       66.0     29.0      0.0  26.6   \n",
       "2  Female          B            8    183.0       64.0      0.0      0.0  23.3   \n",
       "3    Male          A            1     89.0       66.0     23.0     94.0  28.1   \n",
       "4    Male         AB            0    137.0       40.0     35.0    168.0  43.1   \n",
       "5  Female          A            5    116.0       74.0      0.0      0.0  25.6   \n",
       "6    Male          B            3     78.0       50.0     32.0     88.0  31.0   \n",
       "7    Male          B           10    115.0        0.0      0.0      0.0  35.3   \n",
       "8    Male          O            2    197.0       70.0     45.0    543.0  30.5   \n",
       "9  Female          O            8    125.0       96.0      0.0      0.0   0.0   \n",
       "\n",
       "     dpf   age  Outcome  \n",
       "0  0.627  50.0        1  \n",
       "1  0.351  31.0        0  \n",
       "2  0.672  32.0        1  \n",
       "3  0.167  21.0        0  \n",
       "4  2.288  33.0        1  \n",
       "5  0.201  30.0        0  \n",
       "6  0.248  26.0        1  \n",
       "7  0.134  29.0        0  \n",
       "8  0.158  53.0        1  \n",
       "9  0.232  54.0        1  "
      ]
     },
     "execution_count": 307,
     "metadata": {},
     "output_type": "execute_result"
    }
   ],
   "source": [
    "data_brut = pd.read_csv(\"dirty_diabetes_data.csv\", sep = \";\")\n",
    "data_brut.head(10)"
   ]
  },
  {
   "cell_type": "code",
   "execution_count": 308,
   "id": "dacc57d2",
   "metadata": {},
   "outputs": [
    {
     "data": {
      "text/plain": [
       "(768, 11)"
      ]
     },
     "execution_count": 308,
     "metadata": {},
     "output_type": "execute_result"
    }
   ],
   "source": [
    "data_brut.shape"
   ]
  },
  {
   "cell_type": "code",
   "execution_count": 309,
   "id": "9d3f8d97",
   "metadata": {},
   "outputs": [
    {
     "name": "stdout",
     "output_type": "stream",
     "text": [
      "<class 'pandas.core.frame.DataFrame'>\n",
      "RangeIndex: 768 entries, 0 to 767\n",
      "Data columns (total 11 columns):\n",
      " #   Column       Non-Null Count  Dtype  \n",
      "---  ------       --------------  -----  \n",
      " 0   gender       760 non-null    object \n",
      " 1   blood_type   747 non-null    object \n",
      " 2   pregnancies  768 non-null    int64  \n",
      " 3   glucose      764 non-null    float64\n",
      " 4   diastolic    766 non-null    float64\n",
      " 5   triceps      767 non-null    float64\n",
      " 6   insulin      767 non-null    float64\n",
      " 7   bmi          768 non-null    float64\n",
      " 8   dpf          767 non-null    float64\n",
      " 9   age          766 non-null    float64\n",
      " 10  Outcome      768 non-null    int64  \n",
      "dtypes: float64(7), int64(2), object(2)\n",
      "memory usage: 66.1+ KB\n"
     ]
    },
    {
     "data": {
      "image/png": "[encoded data removed]",
      "text/plain": [
       "<Figure size 432x288 with 1 Axes>"
      ]
     },
     "metadata": {},
     "output_type": "display_data"
    }
   ],
   "source": [
    "#type de colonnes\n",
    "\n",
    "data_brut.dtypes.value_counts().plot.pie();\n",
    "\n",
    "data_brut.info()"
   ]
  },
  {
   "cell_type": "code",
   "execution_count": 310,
   "id": "c3dcdb69",
   "metadata": {},
   "outputs": [
    {
     "data": {
      "text/html": [
       "<div>\n",
       "<style scoped>\n",
       "    .dataframe tbody tr th:only-of-type {\n",
       "        vertical-align: middle;\n",
       "    }\n",
       "\n",
       "    .dataframe tbody tr th {\n",
       "        vertical-align: top;\n",
       "    }\n",
       "\n",
       "    .dataframe thead th {\n",
       "        text-align: right;\n",
       "    }\n",
       "</style>\n",
       "<table border=\"1\" class=\"dataframe\">\n",
       "  <thead>\n",
       "    <tr style=\"text-align: right;\">\n",
       "      <th></th>\n",
       "      <th>pregnancies</th>\n",
       "      <th>glucose</th>\n",
       "      <th>diastolic</th>\n",
       "      <th>triceps</th>\n",
       "      <th>insulin</th>\n",
       "      <th>bmi</th>\n",
       "      <th>dpf</th>\n",
       "      <th>age</th>\n",
       "      <th>Outcome</th>\n",
       "    </tr>\n",
       "  </thead>\n",
       "  <tbody>\n",
       "    <tr>\n",
       "      <th>count</th>\n",
       "      <td>768.000000</td>\n",
       "      <td>764.000000</td>\n",
       "      <td>766.000000</td>\n",
       "      <td>767.000000</td>\n",
       "      <td>767.000000</td>\n",
       "      <td>768.000000</td>\n",
       "      <td>767.000000</td>\n",
       "      <td>766.000000</td>\n",
       "      <td>768.000000</td>\n",
       "    </tr>\n",
       "    <tr>\n",
       "      <th>mean</th>\n",
       "      <td>3.845052</td>\n",
       "      <td>120.828534</td>\n",
       "      <td>69.090078</td>\n",
       "      <td>20.521512</td>\n",
       "      <td>79.903520</td>\n",
       "      <td>33.259505</td>\n",
       "      <td>0.472017</td>\n",
       "      <td>33.262402</td>\n",
       "      <td>0.348958</td>\n",
       "    </tr>\n",
       "    <tr>\n",
       "      <th>std</th>\n",
       "      <td>3.369578</td>\n",
       "      <td>32.264969</td>\n",
       "      <td>19.377056</td>\n",
       "      <td>15.957245</td>\n",
       "      <td>115.283105</td>\n",
       "      <td>25.134386</td>\n",
       "      <td>0.331522</td>\n",
       "      <td>11.768033</td>\n",
       "      <td>0.476951</td>\n",
       "    </tr>\n",
       "    <tr>\n",
       "      <th>min</th>\n",
       "      <td>0.000000</td>\n",
       "      <td>0.000000</td>\n",
       "      <td>0.000000</td>\n",
       "      <td>0.000000</td>\n",
       "      <td>0.000000</td>\n",
       "      <td>-35.900000</td>\n",
       "      <td>0.078000</td>\n",
       "      <td>21.000000</td>\n",
       "      <td>0.000000</td>\n",
       "    </tr>\n",
       "    <tr>\n",
       "      <th>25%</th>\n",
       "      <td>1.000000</td>\n",
       "      <td>99.000000</td>\n",
       "      <td>62.000000</td>\n",
       "      <td>0.000000</td>\n",
       "      <td>0.000000</td>\n",
       "      <td>27.275000</td>\n",
       "      <td>0.243500</td>\n",
       "      <td>24.000000</td>\n",
       "      <td>0.000000</td>\n",
       "    </tr>\n",
       "    <tr>\n",
       "      <th>50%</th>\n",
       "      <td>3.000000</td>\n",
       "      <td>117.000000</td>\n",
       "      <td>72.000000</td>\n",
       "      <td>23.000000</td>\n",
       "      <td>32.000000</td>\n",
       "      <td>32.000000</td>\n",
       "      <td>0.374000</td>\n",
       "      <td>29.000000</td>\n",
       "      <td>0.000000</td>\n",
       "    </tr>\n",
       "    <tr>\n",
       "      <th>75%</th>\n",
       "      <td>6.000000</td>\n",
       "      <td>141.000000</td>\n",
       "      <td>80.000000</td>\n",
       "      <td>32.000000</td>\n",
       "      <td>127.500000</td>\n",
       "      <td>36.600000</td>\n",
       "      <td>0.626500</td>\n",
       "      <td>41.000000</td>\n",
       "      <td>1.000000</td>\n",
       "    </tr>\n",
       "    <tr>\n",
       "      <th>max</th>\n",
       "      <td>17.000000</td>\n",
       "      <td>199.000000</td>\n",
       "      <td>122.000000</td>\n",
       "      <td>99.000000</td>\n",
       "      <td>846.000000</td>\n",
       "      <td>476.000000</td>\n",
       "      <td>2.420000</td>\n",
       "      <td>81.000000</td>\n",
       "      <td>1.000000</td>\n",
       "    </tr>\n",
       "  </tbody>\n",
       "</table>\n",
       "</div>"
      ],
      "text/plain": [
       "       pregnancies     glucose   diastolic     triceps     insulin  \\\n",
       "count   768.000000  764.000000  766.000000  767.000000  767.000000   \n",
       "mean      3.845052  120.828534   69.090078   20.521512   79.903520   \n",
       "std       3.369578   32.264969   19.377056   15.957245  115.283105   \n",
       "min       0.000000    0.000000    0.000000    0.000000    0.000000   \n",
       "25%       1.000000   99.000000   62.000000    0.000000    0.000000   \n",
       "50%       3.000000  117.000000   72.000000   23.000000   32.000000   \n",
       "75%       6.000000  141.000000   80.000000   32.000000  127.500000   \n",
       "max      17.000000  199.000000  122.000000   99.000000  846.000000   \n",
       "\n",
       "              bmi         dpf         age     Outcome  \n",
       "count  768.000000  767.000000  766.000000  768.000000  \n",
       "mean    33.259505    0.472017   33.262402    0.348958  \n",
       "std     25.134386    0.331522   11.768033    0.476951  \n",
       "min    -35.900000    0.078000   21.000000    0.000000  \n",
       "25%     27.275000    0.243500   24.000000    0.000000  \n",
       "50%     32.000000    0.374000   29.000000    0.000000  \n",
       "75%     36.600000    0.626500   41.000000    1.000000  \n",
       "max    476.000000    2.420000   81.000000    1.000000  "
      ]
     },
     "execution_count": 310,
     "metadata": {},
     "output_type": "execute_result"
    }
   ],
   "source": [
    "#resumé stats\n",
    "data_brut.describe()"
   ]
  },
  {
   "cell_type": "code",
   "execution_count": 311,
   "id": "e42c18fc",
   "metadata": {},
   "outputs": [
    {
     "name": "stdout",
     "output_type": "stream",
     "text": [
      "gender         1.041667\n",
      "blood_type     2.734375\n",
      "pregnancies    0.000000\n",
      "glucose        0.520833\n",
      "diastolic      0.260417\n",
      "triceps        0.130208\n",
      "insulin        0.130208\n",
      "bmi            0.000000\n",
      "dpf            0.130208\n",
      "age            0.260417\n",
      "Outcome        0.000000\n",
      "dtype: float64\n"
     ]
    }
   ],
   "source": [
    "#comptage des nul\n",
    "percent_missing_df = data_brut.isnull().sum() * 100 / len(data_brut)\n",
    "print(percent_missing_df)"
   ]
  },
  {
   "cell_type": "code",
   "execution_count": 312,
   "id": "3a554c80",
   "metadata": {},
   "outputs": [
    {
     "data": {
      "text/plain": [
       "gender  blood_type  pregnancies  glucose  diastolic  triceps  insulin  bmi    dpf    age    Outcome\n",
       "False   False       False        False    False      False    False    False  False  False  False      730\n",
       "        True        False        False    False      False    False    False  False  False  False       19\n",
       "True    False       False        False    False      False    False    False  False  False  False        8\n",
       "False   False       False        True     False      False    False    False  False  False  False        3\n",
       "                                 False    False      False    False    False  False  True   False        2\n",
       "                                          True       False    False    False  False  False  False        2\n",
       "                                          False      False    True     False  False  False  False        1\n",
       "                                                     True     False    False  False  False  False        1\n",
       "        True        False        False    False      False    False    False  True   False  False        1\n",
       "                                 True     False      False    False    False  False  False  False        1\n",
       "dtype: int64"
      ]
     },
     "execution_count": 312,
     "metadata": {},
     "output_type": "execute_result"
    }
   ],
   "source": [
    "#comptage des nul\n",
    "data_brut.isna().value_counts()"
   ]
  },
  {
   "cell_type": "code",
   "execution_count": 313,
   "id": "8054081a",
   "metadata": {},
   "outputs": [],
   "source": [
    "#dropna\n",
    "data_brut = data_brut.dropna()"
   ]
  },
  {
   "cell_type": "code",
   "execution_count": 314,
   "id": "843b66c9",
   "metadata": {},
   "outputs": [
    {
     "data": {
      "text/plain": [
       "(730, 11)"
      ]
     },
     "execution_count": 314,
     "metadata": {},
     "output_type": "execute_result"
    }
   ],
   "source": [
    "data_brut.shape\n",
    "#38 lignes supprimées"
   ]
  },
  {
   "cell_type": "code",
   "execution_count": 315,
   "id": "c22c87bf",
   "metadata": {},
   "outputs": [
    {
     "data": {
      "text/html": [
       "<div>\n",
       "<style scoped>\n",
       "    .dataframe tbody tr th:only-of-type {\n",
       "        vertical-align: middle;\n",
       "    }\n",
       "\n",
       "    .dataframe tbody tr th {\n",
       "        vertical-align: top;\n",
       "    }\n",
       "\n",
       "    .dataframe thead th {\n",
       "        text-align: right;\n",
       "    }\n",
       "</style>\n",
       "<table border=\"1\" class=\"dataframe\">\n",
       "  <thead>\n",
       "    <tr style=\"text-align: right;\">\n",
       "      <th></th>\n",
       "      <th>gender</th>\n",
       "      <th>blood_type</th>\n",
       "      <th>pregnancies</th>\n",
       "      <th>glucose</th>\n",
       "      <th>diastolic</th>\n",
       "      <th>triceps</th>\n",
       "      <th>insulin</th>\n",
       "      <th>bmi</th>\n",
       "      <th>dpf</th>\n",
       "      <th>age</th>\n",
       "      <th>Outcome</th>\n",
       "    </tr>\n",
       "  </thead>\n",
       "  <tbody>\n",
       "  </tbody>\n",
       "</table>\n",
       "</div>"
      ],
      "text/plain": [
       "Empty DataFrame\n",
       "Columns: [gender, blood_type, pregnancies, glucose, diastolic, triceps, insulin, bmi, dpf, age, Outcome]\n",
       "Index: []"
      ]
     },
     "execution_count": 315,
     "metadata": {},
     "output_type": "execute_result"
    }
   ],
   "source": [
    "#Afficher si les 10 premières colonnes sont des valeurs dupliquées dans le set de données\n",
    "\n",
    "#find duplicate rows across all columns\n",
    "duplicateRows = data_brut[data_brut.duplicated()]\n",
    "duplicateRows.head()"
   ]
  },
  {
   "cell_type": "code",
   "execution_count": 316,
   "id": "4cb5efb8",
   "metadata": {},
   "outputs": [
    {
     "data": {
      "text/plain": [
       "0      False\n",
       "1      False\n",
       "2      False\n",
       "3      False\n",
       "4      False\n",
       "       ...  \n",
       "746    False\n",
       "747    False\n",
       "748    False\n",
       "749    False\n",
       "750    False\n",
       "Length: 730, dtype: bool"
      ]
     },
     "execution_count": 316,
     "metadata": {},
     "output_type": "execute_result"
    }
   ],
   "source": [
    "#on vérifie\n",
    "data_brut.duplicated()"
   ]
  },
  {
   "cell_type": "code",
   "execution_count": 317,
   "id": "33aa123f",
   "metadata": {},
   "outputs": [],
   "source": [
    "# à priori, pas de duplicatas dans le jeu de données"
   ]
  },
  {
   "cell_type": "code",
   "execution_count": 318,
   "id": "c283b026",
   "metadata": {},
   "outputs": [
    {
     "data": {
      "text/plain": [
       "<AxesSubplot:>"
      ]
     },
     "execution_count": 318,
     "metadata": {},
     "output_type": "execute_result"
    },
    {
     "data": {
      "image/png": "[encoded data removed]",
      "text/plain": [
       "<Figure size 936x720 with 1 Axes>"
      ]
     },
     "metadata": {
      "needs_background": "light"
     },
     "output_type": "display_data"
    }
   ],
   "source": [
    "#Afficher un bloxplot avec les colonnes du set de données. Cela vous indiquera si vos données\n",
    "plt.figure(figsize = (13,10))\n",
    "sns.boxplot(data=data_brut, color=\"red\")"
   ]
  },
  {
   "cell_type": "code",
   "execution_count": 319,
   "id": "389c49bc",
   "metadata": {},
   "outputs": [],
   "source": [
    "#il y a des outliers..."
   ]
  },
  {
   "cell_type": "code",
   "execution_count": 320,
   "id": "acd64e68",
   "metadata": {},
   "outputs": [
    {
     "data": {
      "text/plain": [
       "<AxesSubplot:xlabel='pregnancies', ylabel='Count'>"
      ]
     },
     "execution_count": 320,
     "metadata": {},
     "output_type": "execute_result"
    },
    {
     "data": {
      "image/png": "[encoded data removed]",
      "text/plain": [
       "<Figure size 432x288 with 1 Axes>"
      ]
     },
     "metadata": {
      "needs_background": "light"
     },
     "output_type": "display_data"
    }
   ],
   "source": [
    "# suivent une répartition normale ou non (ici ce n’est pas le cas)\n",
    "sns.histplot(data = data_brut, x = 'pregnancies')"
   ]
  },
  {
   "cell_type": "code",
   "execution_count": 321,
   "id": "26cc54f8",
   "metadata": {},
   "outputs": [
    {
     "data": {
      "text/plain": [
       "<AxesSubplot:xlabel='glucose', ylabel='Count'>"
      ]
     },
     "execution_count": 321,
     "metadata": {},
     "output_type": "execute_result"
    },
    {
     "data": {
      "image/png": "[encoded data removed]",
      "text/plain": [
       "<Figure size 432x288 with 1 Axes>"
      ]
     },
     "metadata": {
      "needs_background": "light"
     },
     "output_type": "display_data"
    }
   ],
   "source": [
    "# suivent une répartition normale ou non (ici ce n’est pas le cas)\n",
    "sns.histplot(data = data_brut, x = 'glucose')"
   ]
  },
  {
   "cell_type": "code",
   "execution_count": 322,
   "id": "040e3d46",
   "metadata": {},
   "outputs": [
    {
     "data": {
      "text/plain": [
       "<AxesSubplot:xlabel='diastolic', ylabel='Count'>"
      ]
     },
     "execution_count": 322,
     "metadata": {},
     "output_type": "execute_result"
    },
    {
     "data": {
      "image/png": "[encoded data removed]",
      "text/plain": [
       "<Figure size 432x288 with 1 Axes>"
      ]
     },
     "metadata": {
      "needs_background": "light"
     },
     "output_type": "display_data"
    }
   ],
   "source": [
    "# suivent une répartition normale ou non (ici ce n’est pas le cas)\n",
    "sns.histplot(data = data_brut, x = 'diastolic')"
   ]
  },
  {
   "cell_type": "code",
   "execution_count": 323,
   "id": "e5fc62b1",
   "metadata": {},
   "outputs": [
    {
     "data": {
      "text/plain": [
       "<AxesSubplot:xlabel='triceps', ylabel='Count'>"
      ]
     },
     "execution_count": 323,
     "metadata": {},
     "output_type": "execute_result"
    },
    {
     "data": {
      "image/png": "[encoded data removed]",
      "text/plain": [
       "<Figure size 432x288 with 1 Axes>"
      ]
     },
     "metadata": {
      "needs_background": "light"
     },
     "output_type": "display_data"
    }
   ],
   "source": [
    "# suivent une répartition normale ou non (ici ce n’est pas le cas)\n",
    "sns.histplot(data = data_brut, x = 'triceps')"
   ]
  },
  {
   "cell_type": "code",
   "execution_count": 324,
   "id": "95bb9b2c",
   "metadata": {},
   "outputs": [
    {
     "data": {
      "text/plain": [
       "<AxesSubplot:xlabel='insulin', ylabel='Count'>"
      ]
     },
     "execution_count": 324,
     "metadata": {},
     "output_type": "execute_result"
    },
    {
     "data": {
      "image/png": "[encoded data removed]",
      "text/plain": [
       "<Figure size 432x288 with 1 Axes>"
      ]
     },
     "metadata": {
      "needs_background": "light"
     },
     "output_type": "display_data"
    }
   ],
   "source": [
    "# suivent une répartition normale ou non (ici ce n’est pas le cas)\n",
    "sns.histplot(data = data_brut, x = 'insulin')"
   ]
  },
  {
   "cell_type": "code",
   "execution_count": 325,
   "id": "fd1be9e4",
   "metadata": {},
   "outputs": [
    {
     "data": {
      "text/plain": [
       "<AxesSubplot:xlabel='bmi', ylabel='Count'>"
      ]
     },
     "execution_count": 325,
     "metadata": {},
     "output_type": "execute_result"
    },
    {
     "data": {
      "image/png": "[encoded data removed]",
      "text/plain": [
       "<Figure size 432x288 with 1 Axes>"
      ]
     },
     "metadata": {
      "needs_background": "light"
     },
     "output_type": "display_data"
    }
   ],
   "source": [
    "# suivent une répartition normale ou non (ici ce n’est pas le cas)\n",
    "sns.histplot(data = data_brut, x = 'bmi')"
   ]
  },
  {
   "cell_type": "code",
   "execution_count": 326,
   "id": "447e0c5d",
   "metadata": {},
   "outputs": [
    {
     "data": {
      "text/plain": [
       "<AxesSubplot:xlabel='dpf', ylabel='Count'>"
      ]
     },
     "execution_count": 326,
     "metadata": {},
     "output_type": "execute_result"
    },
    {
     "data": {
      "image/png": "[encoded data removed]",
      "text/plain": [
       "<Figure size 432x288 with 1 Axes>"
      ]
     },
     "metadata": {
      "needs_background": "light"
     },
     "output_type": "display_data"
    }
   ],
   "source": [
    "# suivent une répartition normale ou non (ici ce n’est pas le cas)\n",
    "sns.histplot(data = data_brut, x = 'dpf')"
   ]
  },
  {
   "cell_type": "code",
   "execution_count": 327,
   "id": "a754116a",
   "metadata": {},
   "outputs": [
    {
     "data": {
      "text/plain": [
       "<AxesSubplot:xlabel='age', ylabel='Count'>"
      ]
     },
     "execution_count": 327,
     "metadata": {},
     "output_type": "execute_result"
    },
    {
     "data": {
      "image/png": "[encoded data removed]",
      "text/plain": [
       "<Figure size 432x288 with 1 Axes>"
      ]
     },
     "metadata": {
      "needs_background": "light"
     },
     "output_type": "display_data"
    }
   ],
   "source": [
    "# suivent une répartition normale ou non (ici ce n’est pas le cas)\n",
    "sns.histplot(data = data_brut, x = 'age')"
   ]
  },
  {
   "cell_type": "code",
   "execution_count": 328,
   "id": "25ef8ba1",
   "metadata": {},
   "outputs": [
    {
     "data": {
      "text/plain": [
       "<AxesSubplot:xlabel='Outcome', ylabel='Count'>"
      ]
     },
     "execution_count": 328,
     "metadata": {},
     "output_type": "execute_result"
    },
    {
     "data": {
      "image/png": "[encoded data removed]",
      "text/plain": [
       "<Figure size 432x288 with 1 Axes>"
      ]
     },
     "metadata": {
      "needs_background": "light"
     },
     "output_type": "display_data"
    }
   ],
   "source": [
    "# suivent une répartition normale ou non (ici ce n’est pas le cas)\n",
    "sns.histplot(data = data_brut, x = 'Outcome')"
   ]
  },
  {
   "cell_type": "code",
   "execution_count": 329,
   "id": "bc01e201",
   "metadata": {},
   "outputs": [],
   "source": [
    "#aucunes variables ne suit la courbe en cloche classique... bmi, triceps et diastolic s'en raporochent, mais c'est déformé."
   ]
  },
  {
   "cell_type": "code",
   "execution_count": 330,
   "id": "43f06a5b",
   "metadata": {},
   "outputs": [],
   "source": [
    "# testons pour une colonne\n",
    "#je liste toutes les colonnes car trier via dtype et ajouter une condition d'exclusion, c'est lourd\n",
    "\n",
    "#d'abord, sauvons le dataframe pour aviter de le fiche en l'air par une fausse manip\n",
    "data_pretreat = data_brut\n",
    "\n"
   ]
  },
  {
   "cell_type": "code",
   "execution_count": 331,
   "id": "fbb3a634",
   "metadata": {},
   "outputs": [
    {
     "name": "stdout",
     "output_type": "stream",
     "text": [
      "40.0 104.0\n",
      "72.0\n",
      "66.0\n",
      "64.0\n",
      "66.0\n",
      "40.0\n",
      "74.0\n",
      "50.0\n",
      "0.0\n",
      "à remplacer\n",
      "70.0\n",
      "96.0\n",
      "92.0\n",
      "74.0\n",
      "80.0\n",
      "60.0\n",
      "72.0\n",
      "0.0\n",
      "à remplacer\n",
      "84.0\n",
      "74.0\n",
      "30.0\n",
      "à remplacer\n",
      "70.0\n",
      "88.0\n",
      "84.0\n",
      "90.0\n",
      "80.0\n",
      "94.0\n",
      "70.0\n",
      "76.0\n",
      "66.0\n",
      "82.0\n",
      "92.0\n",
      "75.0\n",
      "76.0\n",
      "58.0\n",
      "92.0\n",
      "78.0\n",
      "60.0\n",
      "76.0\n",
      "76.0\n",
      "68.0\n",
      "72.0\n",
      "64.0\n",
      "84.0\n",
      "92.0\n",
      "110.0\n",
      "à remplacer\n",
      "64.0\n",
      "66.0\n",
      "56.0\n",
      "70.0\n",
      "66.0\n",
      "0.0\n",
      "à remplacer\n",
      "80.0\n",
      "50.0\n",
      "66.0\n",
      "90.0\n",
      "66.0\n",
      "50.0\n",
      "68.0\n",
      "88.0\n",
      "82.0\n",
      "64.0\n",
      "0.0\n",
      "à remplacer\n",
      "72.0\n",
      "62.0\n",
      "58.0\n",
      "66.0\n",
      "74.0\n",
      "88.0\n",
      "92.0\n",
      "66.0\n",
      "85.0\n",
      "66.0\n",
      "64.0\n",
      "90.0\n",
      "86.0\n",
      "75.0\n",
      "48.0\n",
      "78.0\n",
      "72.0\n",
      "0.0\n",
      "à remplacer\n",
      "66.0\n",
      "44.0\n",
      "78.0\n",
      "65.0\n",
      "108.0\n",
      "à remplacer\n",
      "74.0\n",
      "72.0\n",
      "68.0\n",
      "70.0\n",
      "68.0\n",
      "55.0\n",
      "80.0\n",
      "78.0\n",
      "72.0\n",
      "82.0\n",
      "72.0\n",
      "62.0\n",
      "48.0\n",
      "50.0\n",
      "90.0\n",
      "72.0\n",
      "60.0\n",
      "96.0\n",
      "72.0\n",
      "65.0\n",
      "56.0\n",
      "122.0\n",
      "à remplacer\n",
      "58.0\n",
      "58.0\n",
      "85.0\n",
      "72.0\n",
      "62.0\n",
      "76.0\n",
      "62.0\n",
      "54.0\n",
      "92.0\n",
      "74.0\n",
      "48.0\n",
      "60.0\n",
      "76.0\n",
      "76.0\n",
      "64.0\n",
      "74.0\n",
      "80.0\n",
      "76.0\n",
      "30.0\n",
      "à remplacer\n",
      "70.0\n",
      "58.0\n",
      "70.0\n",
      "56.0\n",
      "64.0\n",
      "74.0\n",
      "68.0\n",
      "60.0\n",
      "70.0\n",
      "60.0\n",
      "80.0\n",
      "72.0\n",
      "78.0\n",
      "82.0\n",
      "52.0\n",
      "66.0\n",
      "62.0\n",
      "75.0\n",
      "80.0\n",
      "64.0\n",
      "78.0\n",
      "74.0\n",
      "65.0\n",
      "86.0\n",
      "82.0\n",
      "78.0\n",
      "88.0\n",
      "52.0\n",
      "56.0\n",
      "74.0\n",
      "72.0\n",
      "90.0\n",
      "74.0\n",
      "80.0\n",
      "64.0\n",
      "88.0\n",
      "74.0\n",
      "66.0\n",
      "68.0\n",
      "66.0\n",
      "90.0\n",
      "82.0\n",
      "70.0\n",
      "0.0\n",
      "à remplacer\n",
      "60.0\n",
      "64.0\n",
      "72.0\n",
      "78.0\n",
      "110.0\n",
      "à remplacer\n",
      "78.0\n",
      "82.0\n",
      "80.0\n",
      "64.0\n",
      "74.0\n",
      "60.0\n",
      "74.0\n",
      "68.0\n",
      "68.0\n",
      "98.0\n",
      "76.0\n",
      "80.0\n",
      "62.0\n",
      "70.0\n",
      "66.0\n",
      "0.0\n",
      "à remplacer\n",
      "55.0\n",
      "84.0\n",
      "58.0\n",
      "62.0\n",
      "64.0\n",
      "60.0\n",
      "80.0\n",
      "82.0\n",
      "70.0\n",
      "72.0\n",
      "72.0\n",
      "76.0\n",
      "104.0\n",
      "64.0\n",
      "84.0\n",
      "60.0\n",
      "85.0\n",
      "95.0\n",
      "65.0\n",
      "82.0\n",
      "70.0\n",
      "68.0\n",
      "74.0\n",
      "60.0\n",
      "90.0\n",
      "0.0\n",
      "à remplacer\n",
      "60.0\n",
      "66.0\n",
      "78.0\n",
      "76.0\n",
      "52.0\n",
      "70.0\n",
      "80.0\n",
      "86.0\n",
      "80.0\n",
      "80.0\n",
      "68.0\n",
      "68.0\n",
      "72.0\n",
      "84.0\n",
      "90.0\n",
      "84.0\n",
      "76.0\n",
      "64.0\n",
      "70.0\n",
      "54.0\n",
      "50.0\n",
      "76.0\n",
      "85.0\n",
      "68.0\n",
      "90.0\n",
      "70.0\n",
      "86.0\n",
      "52.0\n",
      "84.0\n",
      "80.0\n",
      "68.0\n",
      "62.0\n",
      "64.0\n",
      "56.0\n",
      "68.0\n",
      "50.0\n",
      "76.0\n",
      "68.0\n",
      "0.0\n",
      "à remplacer\n",
      "70.0\n",
      "80.0\n",
      "62.0\n",
      "74.0\n",
      "0.0\n",
      "à remplacer\n",
      "64.0\n",
      "52.0\n",
      "0.0\n",
      "à remplacer\n",
      "86.0\n",
      "78.0\n",
      "78.0\n",
      "70.0\n",
      "70.0\n",
      "60.0\n",
      "64.0\n",
      "74.0\n",
      "62.0\n",
      "70.0\n",
      "76.0\n",
      "88.0\n",
      "86.0\n",
      "80.0\n",
      "74.0\n",
      "84.0\n",
      "86.0\n",
      "56.0\n",
      "72.0\n",
      "88.0\n",
      "62.0\n",
      "78.0\n",
      "48.0\n",
      "50.0\n",
      "62.0\n",
      "70.0\n",
      "84.0\n",
      "78.0\n",
      "72.0\n",
      "0.0\n",
      "à remplacer\n",
      "58.0\n",
      "82.0\n",
      "98.0\n",
      "76.0\n",
      "76.0\n",
      "68.0\n",
      "68.0\n",
      "68.0\n",
      "68.0\n",
      "66.0\n",
      "70.0\n",
      "74.0\n",
      "80.0\n",
      "74.0\n",
      "66.0\n",
      "78.0\n",
      "60.0\n",
      "74.0\n",
      "70.0\n",
      "90.0\n",
      "75.0\n",
      "72.0\n",
      "64.0\n",
      "70.0\n",
      "86.0\n",
      "70.0\n",
      "72.0\n",
      "0.0\n",
      "à remplacer\n",
      "80.0\n",
      "60.0\n",
      "76.0\n",
      "0.0\n",
      "à remplacer\n",
      "76.0\n",
      "78.0\n",
      "84.0\n",
      "70.0\n",
      "74.0\n",
      "68.0\n",
      "86.0\n",
      "72.0\n",
      "88.0\n",
      "46.0\n",
      "0.0\n",
      "à remplacer\n",
      "62.0\n",
      "80.0\n",
      "80.0\n",
      "84.0\n",
      "82.0\n",
      "62.0\n",
      "78.0\n",
      "88.0\n",
      "50.0\n",
      "0.0\n",
      "à remplacer\n",
      "74.0\n",
      "76.0\n",
      "64.0\n",
      "70.0\n",
      "108.0\n",
      "à remplacer\n",
      "78.0\n",
      "74.0\n",
      "54.0\n",
      "72.0\n",
      "64.0\n",
      "86.0\n",
      "102.0\n",
      "82.0\n",
      "64.0\n",
      "64.0\n",
      "58.0\n",
      "52.0\n",
      "82.0\n",
      "60.0\n",
      "75.0\n",
      "100.0\n",
      "72.0\n",
      "68.0\n",
      "60.0\n",
      "62.0\n",
      "70.0\n",
      "54.0\n",
      "100.0\n",
      "82.0\n",
      "68.0\n",
      "66.0\n",
      "76.0\n",
      "64.0\n",
      "72.0\n",
      "78.0\n",
      "58.0\n",
      "56.0\n",
      "66.0\n",
      "70.0\n",
      "70.0\n",
      "64.0\n",
      "61.0\n",
      "84.0\n",
      "78.0\n",
      "64.0\n",
      "48.0\n",
      "72.0\n",
      "62.0\n",
      "74.0\n",
      "68.0\n",
      "90.0\n",
      "72.0\n",
      "84.0\n",
      "74.0\n",
      "60.0\n",
      "84.0\n",
      "68.0\n",
      "82.0\n",
      "68.0\n",
      "64.0\n",
      "88.0\n",
      "68.0\n",
      "64.0\n",
      "64.0\n",
      "78.0\n",
      "78.0\n",
      "0.0\n",
      "à remplacer\n",
      "64.0\n",
      "94.0\n",
      "82.0\n",
      "0.0\n",
      "à remplacer\n",
      "74.0\n",
      "74.0\n",
      "75.0\n",
      "68.0\n",
      "0.0\n",
      "à remplacer\n",
      "85.0\n",
      "75.0\n",
      "70.0\n",
      "88.0\n",
      "104.0\n",
      "66.0\n",
      "64.0\n",
      "70.0\n",
      "62.0\n",
      "78.0\n",
      "72.0\n",
      "80.0\n",
      "64.0\n",
      "74.0\n",
      "64.0\n",
      "70.0\n",
      "68.0\n",
      "0.0\n",
      "à remplacer\n",
      "54.0\n",
      "62.0\n",
      "54.0\n",
      "84.0\n",
      "74.0\n",
      "72.0\n",
      "62.0\n",
      "70.0\n",
      "78.0\n",
      "98.0\n",
      "56.0\n",
      "52.0\n",
      "64.0\n",
      "0.0\n",
      "à remplacer\n",
      "78.0\n",
      "82.0\n",
      "70.0\n",
      "66.0\n",
      "90.0\n",
      "64.0\n",
      "84.0\n",
      "80.0\n",
      "76.0\n",
      "74.0\n",
      "86.0\n",
      "70.0\n",
      "88.0\n",
      "58.0\n",
      "82.0\n",
      "0.0\n",
      "à remplacer\n",
      "68.0\n",
      "62.0\n",
      "78.0\n",
      "72.0\n",
      "80.0\n",
      "65.0\n",
      "90.0\n",
      "68.0\n",
      "70.0\n",
      "0.0\n",
      "à remplacer\n",
      "74.0\n",
      "68.0\n",
      "72.0\n",
      "70.0\n",
      "74.0\n",
      "90.0\n",
      "72.0\n",
      "68.0\n",
      "64.0\n",
      "78.0\n",
      "82.0\n",
      "90.0\n",
      "60.0\n",
      "50.0\n",
      "78.0\n",
      "72.0\n",
      "62.0\n",
      "68.0\n",
      "62.0\n",
      "54.0\n",
      "88.0\n",
      "86.0\n",
      "60.0\n",
      "90.0\n",
      "70.0\n",
      "80.0\n",
      "0.0\n",
      "à remplacer\n",
      "70.0\n",
      "58.0\n",
      "60.0\n",
      "64.0\n",
      "74.0\n",
      "66.0\n",
      "65.0\n",
      "60.0\n",
      "76.0\n",
      "66.0\n",
      "0.0\n",
      "à remplacer\n",
      "56.0\n",
      "0.0\n",
      "à remplacer\n",
      "90.0\n",
      "60.0\n",
      "80.0\n",
      "92.0\n",
      "74.0\n",
      "72.0\n",
      "85.0\n",
      "90.0\n",
      "78.0\n",
      "90.0\n",
      "76.0\n",
      "68.0\n",
      "82.0\n",
      "110.0\n",
      "à remplacer\n",
      "70.0\n",
      "68.0\n",
      "88.0\n",
      "62.0\n",
      "64.0\n",
      "70.0\n",
      "70.0\n",
      "76.0\n",
      "68.0\n",
      "74.0\n",
      "76.0\n",
      "66.0\n",
      "68.0\n",
      "60.0\n",
      "80.0\n",
      "54.0\n",
      "72.0\n",
      "62.0\n",
      "72.0\n",
      "66.0\n",
      "70.0\n",
      "96.0\n",
      "58.0\n",
      "60.0\n",
      "86.0\n",
      "44.0\n",
      "44.0\n",
      "80.0\n",
      "68.0\n",
      "70.0\n",
      "90.0\n",
      "60.0\n",
      "78.0\n",
      "76.0\n",
      "76.0\n",
      "56.0\n",
      "66.0\n",
      "66.0\n",
      "86.0\n",
      "0.0\n",
      "à remplacer\n",
      "84.0\n",
      "78.0\n",
      "80.0\n",
      "52.0\n",
      "72.0\n",
      "82.0\n",
      "76.0\n",
      "24.0\n",
      "à remplacer\n",
      "74.0\n",
      "38.0\n",
      "à remplacer\n",
      "88.0\n",
      "0.0\n",
      "à remplacer\n",
      "74.0\n",
      "78.0\n",
      "0.0\n",
      "à remplacer\n",
      "60.0\n",
      "78.0\n",
      "62.0\n",
      "82.0\n",
      "62.0\n",
      "54.0\n",
      "58.0\n",
      "88.0\n",
      "80.0\n",
      "72.0\n",
      "96.0\n",
      "62.0\n",
      "82.0\n",
      "0.0\n",
      "à remplacer\n",
      "86.0\n",
      "76.0\n",
      "94.0\n",
      "70.0\n",
      "64.0\n",
      "88.0\n",
      "68.0\n",
      "78.0\n",
      "80.0\n",
      "65.0\n",
      "64.0\n",
      "78.0\n",
      "60.0\n",
      "82.0\n",
      "62.0\n",
      "72.0\n",
      "74.0\n",
      "76.0\n",
      "76.0\n",
      "74.0\n",
      "86.0\n",
      "70.0\n",
      "80.0\n",
      "0.0\n",
      "à remplacer\n",
      "74.0\n",
      "74.0\n",
      "50.0\n",
      "84.0\n",
      "54.0\n",
      "60.0\n",
      "74.0\n",
      "54.0\n",
      "58.0\n",
      "80.0\n",
      "106.0\n",
      "à remplacer\n",
      "82.0\n",
      "84.0\n",
      "76.0\n",
      "106.0\n",
      "à remplacer\n",
      "80.0\n",
      "60.0\n",
      "80.0\n",
      "82.0\n",
      "70.0\n",
      "58.0\n",
      "78.0\n",
      "68.0\n",
      "58.0\n",
      "106.0\n",
      "à remplacer\n",
      "100.0\n",
      "82.0\n",
      "70.0\n",
      "86.0\n",
      "60.0\n",
      "52.0\n",
      "58.0\n",
      "56.0\n",
      "76.0\n",
      "64.0\n",
      "80.0\n",
      "82.0\n",
      "74.0\n",
      "64.0\n",
      "50.0\n",
      "74.0\n",
      "82.0\n",
      "80.0\n",
      "114.0\n",
      "à remplacer\n",
      "70.0\n",
      "68.0\n",
      "60.0\n",
      "90.0\n",
      "74.0\n",
      "0.0\n",
      "à remplacer\n",
      "88.0\n",
      "70.0\n",
      "76.0\n",
      "78.0\n",
      "88.0\n",
      "0.0\n",
      "à remplacer\n",
      "76.0\n",
      "80.0\n",
      "0.0\n",
      "à remplacer\n",
      "46.0\n",
      "78.0\n",
      "64.0\n",
      "64.0\n",
      "78.0\n",
      "62.0\n",
      "58.0\n",
      "74.0\n",
      "50.0\n",
      "78.0\n",
      "72.0\n",
      "60.0\n",
      "76.0\n",
      "86.0\n",
      "66.0\n",
      "68.0\n",
      "86.0\n",
      "94.0\n",
      "78.0\n",
      "78.0\n",
      "84.0\n",
      "88.0\n",
      "52.0\n",
      "78.0\n",
      "86.0\n",
      "88.0\n",
      "56.0\n",
      "75.0\n",
      "60.0\n",
      "86.0\n",
      "72.0\n",
      "60.0\n",
      "74.0\n",
      "80.0\n",
      "44.0\n",
      "58.0\n",
      "94.0\n",
      "88.0\n",
      "84.0\n",
      "94.0\n",
      "74.0\n",
      "70.0\n",
      "62.0\n",
      "70.0\n"
     ]
    },
    {
     "data": {
      "text/plain": [
       "<AxesSubplot:xlabel='diastolic', ylabel='Count'>"
      ]
     },
     "execution_count": 331,
     "metadata": {},
     "output_type": "execute_result"
    },
    {
     "data": {
      "image/png": "[encoded data removed]",
      "text/plain": [
       "<Figure size 432x288 with 1 Axes>"
      ]
     },
     "metadata": {
      "needs_background": "light"
     },
     "output_type": "display_data"
    }
   ],
   "source": [
    "#test sur une colonne : diastolic\n",
    "\n",
    "Q1 = np.nanpercentile(data_pretreat['diastolic'], 25)\n",
    "Q3 = np.nanpercentile(data_pretreat['diastolic'], 75)\n",
    "interQ = Q3 - Q1\n",
    "a = Q1 - 1.5*interQ\n",
    "b = Q3 + 1.5*interQ\n",
    "print(a, b)\n",
    "\n",
    "for value in data_pretreat['diastolic'] :\n",
    "    print(value)\n",
    "    if value < a :\n",
    "        print('à remplacer')\n",
    "        data_pretreat['diastolic'] = data_pretreat['diastolic'].replace(value, np.nan)\n",
    "    elif value > b :\n",
    "        print('à remplacer')\n",
    "        data_pretreat['diastolic'] = data_pretreat['diastolic'].replace(value, np.nan)\n",
    "    \n",
    "    #if value < a :\n",
    "    #    data_brut['diastolic'][value] = data_brut['diastolic'].replace(value, np.nan)\n",
    "    #elif value > b :\n",
    "    #    data_brut['diastolic'][value] = data_brut['diastolic'].replace(value, np.nan)\n",
    "        \n",
    "data_pretreat.isna().value_counts();\n",
    "sns.histplot(data = data_pretreat, x = 'diastolic')"
   ]
  },
  {
   "cell_type": "code",
   "execution_count": 332,
   "id": "68a7e3d5",
   "metadata": {},
   "outputs": [
    {
     "name": "stdout",
     "output_type": "stream",
     "text": [
      "à remplacer\n",
      "à remplacer\n",
      "à remplacer\n",
      "à remplacer\n",
      "à remplacer\n",
      "à remplacer\n",
      "à remplacer\n",
      "à remplacer\n",
      "à remplacer\n",
      "à remplacer\n",
      "à remplacer\n",
      "à remplacer\n",
      "à remplacer\n",
      "à remplacer\n",
      "à remplacer\n",
      "à remplacer\n",
      "à remplacer\n",
      "à remplacer\n",
      "à remplacer\n",
      "à remplacer\n",
      "à remplacer\n",
      "à remplacer\n",
      "à remplacer\n",
      "à remplacer\n",
      "à remplacer\n",
      "à remplacer\n",
      "à remplacer\n",
      "à remplacer\n",
      "à remplacer\n",
      "à remplacer\n",
      "à remplacer\n",
      "à remplacer\n",
      "à remplacer\n",
      "à remplacer\n",
      "à remplacer\n",
      "à remplacer\n",
      "à remplacer\n",
      "à remplacer\n",
      "à remplacer\n",
      "à remplacer\n",
      "à remplacer\n",
      "à remplacer\n",
      "à remplacer\n",
      "à remplacer\n",
      "à remplacer\n",
      "à remplacer\n",
      "à remplacer\n",
      "à remplacer\n",
      "à remplacer\n",
      "à remplacer\n",
      "à remplacer\n",
      "à remplacer\n",
      "à remplacer\n",
      "à remplacer\n",
      "à remplacer\n",
      "à remplacer\n",
      "à remplacer\n",
      "à remplacer\n",
      "à remplacer\n",
      "à remplacer\n",
      "à remplacer\n",
      "à remplacer\n",
      "à remplacer\n",
      "à remplacer\n",
      "à remplacer\n",
      "à remplacer\n",
      "à remplacer\n",
      "à remplacer\n",
      "à remplacer\n",
      "à remplacer\n",
      "à remplacer\n",
      "à remplacer\n",
      "à remplacer\n",
      "à remplacer\n",
      "à remplacer\n",
      "à remplacer\n",
      "à remplacer\n",
      "à remplacer\n",
      "à remplacer\n",
      "à remplacer\n",
      "à remplacer\n",
      "à remplacer\n",
      "à remplacer\n",
      "à remplacer\n",
      "à remplacer\n",
      "à remplacer\n",
      "à remplacer\n",
      "à remplacer\n",
      "à remplacer\n",
      "à remplacer\n",
      "à remplacer\n",
      "à remplacer\n",
      "à remplacer\n",
      "à remplacer\n",
      "à remplacer\n",
      "à remplacer\n",
      "à remplacer\n",
      "à remplacer\n",
      "à remplacer\n",
      "à remplacer\n",
      "à remplacer\n",
      "à remplacer\n",
      "à remplacer\n",
      "à remplacer\n",
      "à remplacer\n",
      "à remplacer\n",
      "à remplacer\n"
     ]
    },
    {
     "data": {
      "image/png": "[encoded data removed]",
      "text/plain": [
       "<Figure size 432x288 with 1 Axes>"
      ]
     },
     "metadata": {
      "needs_background": "light"
     },
     "output_type": "display_data"
    }
   ],
   "source": [
    "#généralisons avec une boucle for\n",
    "\n",
    "def strip_par_quartiles(dataframe):  #bien sur cette fonction ne marche qu'avec le dataframe diabete, car les colonnes sont fixes\n",
    "\n",
    "    for column in dataframe[['pregnancies', 'glucose', 'diastolic', 'triceps', 'insulin', 'bmi', 'dpf', 'age']]:\n",
    "\n",
    "        Q1 = np.nanpercentile(dataframe[column], 25)\n",
    "        Q3 = np.nanpercentile(dataframe[column], 75)\n",
    "        interQ = Q3 - Q1\n",
    "        a = Q1 - 1.5*interQ\n",
    "        b = Q3 + 1.5*interQ\n",
    "\n",
    "        for value in dataframe[column] :\n",
    "            if value < a :\n",
    "                print('à remplacer')\n",
    "                dataframe[column] = dataframe[column].replace(value, np.nan)\n",
    "            elif value > b :\n",
    "                print('à remplacer')\n",
    "                dataframe[column] = dataframe[column].replace(value, np.nan)\n",
    "    \n",
    "    return dataframe\n",
    "\n",
    "\n",
    "data_pretreat = strip_par_quartiles(data_pretreat)"
   ]
  },
  {
   "cell_type": "code",
   "execution_count": null,
   "id": "8e36b8ad",
   "metadata": {},
   "outputs": [],
   "source": [
    "#on vérifie...\n",
    "data_pretreat.isna().value_counts();\n",
    "\n",
    "for column in data_pretreat[['pregnancies', 'glucose', 'diastolic', 'triceps', 'insulin', 'bmi', 'dpf', 'age']]:\n",
    "    sns.histplot(data = data_pretreat, x = column);"
   ]
  },
  {
   "cell_type": "code",
   "execution_count": 333,
   "id": "355d9913",
   "metadata": {},
   "outputs": [],
   "source": [
    "#je n'ai aucune valeur remplacée.... bizarre..."
   ]
  },
  {
   "cell_type": "code",
   "execution_count": 334,
   "id": "ee4d6f53",
   "metadata": {},
   "outputs": [],
   "source": [
    "#fillna par la moyenne pour toutes les colonnes traitées précédement\n",
    "#df[['col1', 'col2']] = df[['col1', 'col2']].fillna(df[['col1', 'col2']].mean())\n",
    "data_pretreat[['pregnancies', 'glucose', 'diastolic', 'triceps', 'insulin', 'bmi', 'dpf', 'age']] = data_pretreat[['pregnancies', 'glucose', 'diastolic', 'triceps', 'insulin', 'bmi', 'dpf', 'age']].fillna(data_pretreat[['pregnancies', 'glucose', 'diastolic', 'triceps', 'insulin', 'bmi', 'dpf', 'age']].mean())\n",
    "data_treated = data_pretreat"
   ]
  },
  {
   "cell_type": "code",
   "execution_count": 335,
   "id": "3dea5b7f",
   "metadata": {},
   "outputs": [],
   "source": [
    "#remplacement de toutes les valeurs = 0 par la moyenne de toutes les colonnes traitées précédement\n",
    "\n",
    "for column in data_treated[['pregnancies', 'glucose', 'diastolic', 'triceps', 'insulin', 'bmi', 'dpf', 'age']]:\n",
    "    data_treated[column] = data_treated[column].replace(0, data_treated[column].mean())"
   ]
  },
  {
   "cell_type": "code",
   "execution_count": 336,
   "id": "8e860b07",
   "metadata": {},
   "outputs": [
    {
     "data": {
      "image/png": "[encoded data removed]",
      "text/plain": [
       "<Figure size 432x288 with 1 Axes>"
      ]
     },
     "metadata": {
      "needs_background": "light"
     },
     "output_type": "display_data"
    }
   ],
   "source": [
    "sns.histplot(data = data_treated, x = 'pregnancies');"
   ]
  },
  {
   "cell_type": "code",
   "execution_count": 337,
   "id": "d7ef57ce",
   "metadata": {},
   "outputs": [
    {
     "data": {
      "text/plain": [
       "<AxesSubplot:xlabel='glucose', ylabel='Count'>"
      ]
     },
     "execution_count": 337,
     "metadata": {},
     "output_type": "execute_result"
    },
    {
     "data": {
      "image/png": "[encoded data removed]",
      "text/plain": [
       "<Figure size 432x288 with 1 Axes>"
      ]
     },
     "metadata": {
      "needs_background": "light"
     },
     "output_type": "display_data"
    }
   ],
   "source": [
    "sns.histplot(data = data_treated, x = 'glucose')"
   ]
  },
  {
   "cell_type": "code",
   "execution_count": 338,
   "id": "2f284bd9",
   "metadata": {},
   "outputs": [
    {
     "data": {
      "text/plain": [
       "<AxesSubplot:xlabel='diastolic', ylabel='Count'>"
      ]
     },
     "execution_count": 338,
     "metadata": {},
     "output_type": "execute_result"
    },
    {
     "data": {
      "image/png": "[encoded data removed]",
      "text/plain": [
       "<Figure size 432x288 with 1 Axes>"
      ]
     },
     "metadata": {
      "needs_background": "light"
     },
     "output_type": "display_data"
    }
   ],
   "source": [
    "sns.histplot(data = data_treated, x = 'diastolic')"
   ]
  },
  {
   "cell_type": "code",
   "execution_count": 339,
   "id": "1a3aa349",
   "metadata": {},
   "outputs": [
    {
     "data": {
      "text/plain": [
       "<AxesSubplot:xlabel='triceps', ylabel='Count'>"
      ]
     },
     "execution_count": 339,
     "metadata": {},
     "output_type": "execute_result"
    },
    {
     "data": {
      "image/png": "[encoded data removed]",
      "text/plain": [
       "<Figure size 432x288 with 1 Axes>"
      ]
     },
     "metadata": {
      "needs_background": "light"
     },
     "output_type": "display_data"
    }
   ],
   "source": [
    "sns.histplot(data = data_treated, x = 'triceps')"
   ]
  },
  {
   "cell_type": "code",
   "execution_count": 340,
   "id": "b81f652a",
   "metadata": {},
   "outputs": [
    {
     "data": {
      "text/plain": [
       "<AxesSubplot:xlabel='insulin', ylabel='Count'>"
      ]
     },
     "execution_count": 340,
     "metadata": {},
     "output_type": "execute_result"
    },
    {
     "data": {
      "image/png": "[encoded data removed]",
      "text/plain": [
       "<Figure size 432x288 with 1 Axes>"
      ]
     },
     "metadata": {
      "needs_background": "light"
     },
     "output_type": "display_data"
    }
   ],
   "source": [
    "sns.histplot(data = data_treated, x = 'insulin')"
   ]
  },
  {
   "cell_type": "code",
   "execution_count": 341,
   "id": "8b834268",
   "metadata": {},
   "outputs": [
    {
     "data": {
      "text/plain": [
       "<AxesSubplot:xlabel='bmi', ylabel='Count'>"
      ]
     },
     "execution_count": 341,
     "metadata": {},
     "output_type": "execute_result"
    },
    {
     "data": {
      "image/png": "[encoded data removed]",
      "text/plain": [
       "<Figure size 432x288 with 1 Axes>"
      ]
     },
     "metadata": {
      "needs_background": "light"
     },
     "output_type": "display_data"
    }
   ],
   "source": [
    "sns.histplot(data = data_treated, x = 'bmi')"
   ]
  },
  {
   "cell_type": "code",
   "execution_count": 342,
   "id": "5e22dcb5",
   "metadata": {},
   "outputs": [
    {
     "data": {
      "text/plain": [
       "<AxesSubplot:xlabel='dpf', ylabel='Count'>"
      ]
     },
     "execution_count": 342,
     "metadata": {},
     "output_type": "execute_result"
    },
    {
     "data": {
      "image/png": "[encoded data removed]",
      "text/plain": [
       "<Figure size 432x288 with 1 Axes>"
      ]
     },
     "metadata": {
      "needs_background": "light"
     },
     "output_type": "display_data"
    }
   ],
   "source": [
    "sns.histplot(data = data_treated, x = 'dpf')"
   ]
  },
  {
   "cell_type": "code",
   "execution_count": 343,
   "id": "414120eb",
   "metadata": {},
   "outputs": [
    {
     "data": {
      "text/plain": [
       "<AxesSubplot:xlabel='age', ylabel='Count'>"
      ]
     },
     "execution_count": 343,
     "metadata": {},
     "output_type": "execute_result"
    },
    {
     "data": {
      "image/png": "[encoded data removed]",
      "text/plain": [
       "<Figure size 432x288 with 1 Axes>"
      ]
     },
     "metadata": {
      "needs_background": "light"
     },
     "output_type": "display_data"
    }
   ],
   "source": [
    "sns.histplot(data = data_treated, x = 'age')"
   ]
  },
  {
   "cell_type": "code",
   "execution_count": 344,
   "id": "0c0f6e42",
   "metadata": {},
   "outputs": [],
   "source": [
    "#les outliers ont été virés, les nans et les 0 remplacés par les moyennes de chaque colonnes\n"
   ]
  },
  {
   "cell_type": "code",
   "execution_count": 345,
   "id": "db757bf8",
   "metadata": {},
   "outputs": [
    {
     "data": {
      "text/html": [
       "<div>\n",
       "<style scoped>\n",
       "    .dataframe tbody tr th:only-of-type {\n",
       "        vertical-align: middle;\n",
       "    }\n",
       "\n",
       "    .dataframe tbody tr th {\n",
       "        vertical-align: top;\n",
       "    }\n",
       "\n",
       "    .dataframe thead th {\n",
       "        text-align: right;\n",
       "    }\n",
       "</style>\n",
       "<table border=\"1\" class=\"dataframe\">\n",
       "  <thead>\n",
       "    <tr style=\"text-align: right;\">\n",
       "      <th></th>\n",
       "      <th>gender</th>\n",
       "      <th>blood_type</th>\n",
       "      <th>pregnancies</th>\n",
       "      <th>glucose</th>\n",
       "      <th>diastolic</th>\n",
       "      <th>triceps</th>\n",
       "      <th>insulin</th>\n",
       "      <th>bmi</th>\n",
       "      <th>dpf</th>\n",
       "      <th>age</th>\n",
       "      <th>Outcome</th>\n",
       "    </tr>\n",
       "  </thead>\n",
       "  <tbody>\n",
       "    <tr>\n",
       "      <th>0</th>\n",
       "      <td>Male</td>\n",
       "      <td>A</td>\n",
       "      <td>6.000000</td>\n",
       "      <td>148.0</td>\n",
       "      <td>72.0</td>\n",
       "      <td>35.000000</td>\n",
       "      <td>63.074392</td>\n",
       "      <td>33.6</td>\n",
       "      <td>0.627000</td>\n",
       "      <td>50.0</td>\n",
       "      <td>1</td>\n",
       "    </tr>\n",
       "    <tr>\n",
       "      <th>1</th>\n",
       "      <td>Male</td>\n",
       "      <td>A</td>\n",
       "      <td>1.000000</td>\n",
       "      <td>85.0</td>\n",
       "      <td>66.0</td>\n",
       "      <td>29.000000</td>\n",
       "      <td>63.074392</td>\n",
       "      <td>26.6</td>\n",
       "      <td>0.351000</td>\n",
       "      <td>31.0</td>\n",
       "      <td>0</td>\n",
       "    </tr>\n",
       "    <tr>\n",
       "      <th>2</th>\n",
       "      <td>Female</td>\n",
       "      <td>B</td>\n",
       "      <td>8.000000</td>\n",
       "      <td>183.0</td>\n",
       "      <td>64.0</td>\n",
       "      <td>20.303155</td>\n",
       "      <td>63.074392</td>\n",
       "      <td>23.3</td>\n",
       "      <td>0.672000</td>\n",
       "      <td>32.0</td>\n",
       "      <td>1</td>\n",
       "    </tr>\n",
       "    <tr>\n",
       "      <th>3</th>\n",
       "      <td>Male</td>\n",
       "      <td>A</td>\n",
       "      <td>1.000000</td>\n",
       "      <td>89.0</td>\n",
       "      <td>66.0</td>\n",
       "      <td>23.000000</td>\n",
       "      <td>94.000000</td>\n",
       "      <td>28.1</td>\n",
       "      <td>0.167000</td>\n",
       "      <td>21.0</td>\n",
       "      <td>0</td>\n",
       "    </tr>\n",
       "    <tr>\n",
       "      <th>4</th>\n",
       "      <td>Male</td>\n",
       "      <td>AB</td>\n",
       "      <td>3.793388</td>\n",
       "      <td>137.0</td>\n",
       "      <td>40.0</td>\n",
       "      <td>35.000000</td>\n",
       "      <td>168.000000</td>\n",
       "      <td>43.1</td>\n",
       "      <td>0.431823</td>\n",
       "      <td>33.0</td>\n",
       "      <td>1</td>\n",
       "    </tr>\n",
       "  </tbody>\n",
       "</table>\n",
       "</div>"
      ],
      "text/plain": [
       "   gender blood_type  pregnancies  glucose  diastolic    triceps     insulin  \\\n",
       "0    Male          A     6.000000    148.0       72.0  35.000000   63.074392   \n",
       "1    Male          A     1.000000     85.0       66.0  29.000000   63.074392   \n",
       "2  Female          B     8.000000    183.0       64.0  20.303155   63.074392   \n",
       "3    Male          A     1.000000     89.0       66.0  23.000000   94.000000   \n",
       "4    Male         AB     3.793388    137.0       40.0  35.000000  168.000000   \n",
       "\n",
       "    bmi       dpf   age  Outcome  \n",
       "0  33.6  0.627000  50.0        1  \n",
       "1  26.6  0.351000  31.0        0  \n",
       "2  23.3  0.672000  32.0        1  \n",
       "3  28.1  0.167000  21.0        0  \n",
       "4  43.1  0.431823  33.0        1  "
      ]
     },
     "execution_count": 345,
     "metadata": {},
     "output_type": "execute_result"
    }
   ],
   "source": [
    "#Afficher toutes les valeurs dans la colonne gender avec leurs décomptées.\n",
    "data_treated.head()"
   ]
  },
  {
   "cell_type": "code",
   "execution_count": 346,
   "id": "2ec76216",
   "metadata": {},
   "outputs": [
    {
     "data": {
      "text/plain": [
       "Male      498\n",
       "Female    182\n",
       "Make       23\n",
       "female     21\n",
       "Femali      2\n",
       "Mile        2\n",
       "mal         1\n",
       "Femal       1\n",
       "Name: gender, dtype: int64"
      ]
     },
     "execution_count": 346,
     "metadata": {},
     "output_type": "execute_result"
    }
   ],
   "source": [
    "data_treated['gender'].value_counts()"
   ]
  },
  {
   "cell_type": "code",
   "execution_count": 347,
   "id": "d8ba7d30",
   "metadata": {},
   "outputs": [
    {
     "data": {
      "text/html": [
       "<div>\n",
       "<style scoped>\n",
       "    .dataframe tbody tr th:only-of-type {\n",
       "        vertical-align: middle;\n",
       "    }\n",
       "\n",
       "    .dataframe tbody tr th {\n",
       "        vertical-align: top;\n",
       "    }\n",
       "\n",
       "    .dataframe thead th {\n",
       "        text-align: right;\n",
       "    }\n",
       "</style>\n",
       "<table border=\"1\" class=\"dataframe\">\n",
       "  <thead>\n",
       "    <tr style=\"text-align: right;\">\n",
       "      <th></th>\n",
       "      <th>gender</th>\n",
       "      <th>blood_type</th>\n",
       "      <th>pregnancies</th>\n",
       "      <th>glucose</th>\n",
       "      <th>diastolic</th>\n",
       "      <th>triceps</th>\n",
       "      <th>insulin</th>\n",
       "      <th>bmi</th>\n",
       "      <th>dpf</th>\n",
       "      <th>age</th>\n",
       "      <th>Outcome</th>\n",
       "    </tr>\n",
       "  </thead>\n",
       "  <tbody>\n",
       "    <tr>\n",
       "      <th>0</th>\n",
       "      <td>Male</td>\n",
       "      <td>A</td>\n",
       "      <td>6.000000</td>\n",
       "      <td>148.0</td>\n",
       "      <td>72.0</td>\n",
       "      <td>35.000000</td>\n",
       "      <td>63.074392</td>\n",
       "      <td>33.6</td>\n",
       "      <td>0.627000</td>\n",
       "      <td>50.0</td>\n",
       "      <td>1</td>\n",
       "    </tr>\n",
       "    <tr>\n",
       "      <th>1</th>\n",
       "      <td>Male</td>\n",
       "      <td>A</td>\n",
       "      <td>1.000000</td>\n",
       "      <td>85.0</td>\n",
       "      <td>66.0</td>\n",
       "      <td>29.000000</td>\n",
       "      <td>63.074392</td>\n",
       "      <td>26.6</td>\n",
       "      <td>0.351000</td>\n",
       "      <td>31.0</td>\n",
       "      <td>0</td>\n",
       "    </tr>\n",
       "    <tr>\n",
       "      <th>2</th>\n",
       "      <td>Female</td>\n",
       "      <td>B</td>\n",
       "      <td>8.000000</td>\n",
       "      <td>183.0</td>\n",
       "      <td>64.0</td>\n",
       "      <td>20.303155</td>\n",
       "      <td>63.074392</td>\n",
       "      <td>23.3</td>\n",
       "      <td>0.672000</td>\n",
       "      <td>32.0</td>\n",
       "      <td>1</td>\n",
       "    </tr>\n",
       "    <tr>\n",
       "      <th>3</th>\n",
       "      <td>Male</td>\n",
       "      <td>A</td>\n",
       "      <td>1.000000</td>\n",
       "      <td>89.0</td>\n",
       "      <td>66.0</td>\n",
       "      <td>23.000000</td>\n",
       "      <td>94.000000</td>\n",
       "      <td>28.1</td>\n",
       "      <td>0.167000</td>\n",
       "      <td>21.0</td>\n",
       "      <td>0</td>\n",
       "    </tr>\n",
       "    <tr>\n",
       "      <th>4</th>\n",
       "      <td>Male</td>\n",
       "      <td>AB</td>\n",
       "      <td>3.793388</td>\n",
       "      <td>137.0</td>\n",
       "      <td>40.0</td>\n",
       "      <td>35.000000</td>\n",
       "      <td>168.000000</td>\n",
       "      <td>43.1</td>\n",
       "      <td>0.431823</td>\n",
       "      <td>33.0</td>\n",
       "      <td>1</td>\n",
       "    </tr>\n",
       "  </tbody>\n",
       "</table>\n",
       "</div>"
      ],
      "text/plain": [
       "   gender blood_type  pregnancies  glucose  diastolic    triceps     insulin  \\\n",
       "0    Male          A     6.000000    148.0       72.0  35.000000   63.074392   \n",
       "1    Male          A     1.000000     85.0       66.0  29.000000   63.074392   \n",
       "2  Female          B     8.000000    183.0       64.0  20.303155   63.074392   \n",
       "3    Male          A     1.000000     89.0       66.0  23.000000   94.000000   \n",
       "4    Male         AB     3.793388    137.0       40.0  35.000000  168.000000   \n",
       "\n",
       "    bmi       dpf   age  Outcome  \n",
       "0  33.6  0.627000  50.0        1  \n",
       "1  26.6  0.351000  31.0        0  \n",
       "2  23.3  0.672000  32.0        1  \n",
       "3  28.1  0.167000  21.0        0  \n",
       "4  43.1  0.431823  33.0        1  "
      ]
     },
     "execution_count": 347,
     "metadata": {},
     "output_type": "execute_result"
    }
   ],
   "source": [
    "#on sauve le dataframe avant de faire des clowneries\n",
    "data_treat2 = data_treated\n",
    "data_treated.head()"
   ]
  },
  {
   "cell_type": "code",
   "execution_count": 348,
   "id": "44cd47b6",
   "metadata": {},
   "outputs": [
    {
     "data": {
      "text/html": [
       "<div>\n",
       "<style scoped>\n",
       "    .dataframe tbody tr th:only-of-type {\n",
       "        vertical-align: middle;\n",
       "    }\n",
       "\n",
       "    .dataframe tbody tr th {\n",
       "        vertical-align: top;\n",
       "    }\n",
       "\n",
       "    .dataframe thead th {\n",
       "        text-align: right;\n",
       "    }\n",
       "</style>\n",
       "<table border=\"1\" class=\"dataframe\">\n",
       "  <thead>\n",
       "    <tr style=\"text-align: right;\">\n",
       "      <th></th>\n",
       "      <th>gender</th>\n",
       "      <th>blood_type</th>\n",
       "      <th>pregnancies</th>\n",
       "      <th>glucose</th>\n",
       "      <th>diastolic</th>\n",
       "      <th>triceps</th>\n",
       "      <th>insulin</th>\n",
       "      <th>bmi</th>\n",
       "      <th>dpf</th>\n",
       "      <th>age</th>\n",
       "      <th>Outcome</th>\n",
       "    </tr>\n",
       "  </thead>\n",
       "  <tbody>\n",
       "    <tr>\n",
       "      <th>0</th>\n",
       "      <td>Male</td>\n",
       "      <td>A</td>\n",
       "      <td>6.000000</td>\n",
       "      <td>148.0</td>\n",
       "      <td>72.0</td>\n",
       "      <td>35.000000</td>\n",
       "      <td>63.074392</td>\n",
       "      <td>33.6</td>\n",
       "      <td>0.627000</td>\n",
       "      <td>50.0</td>\n",
       "      <td>1</td>\n",
       "    </tr>\n",
       "    <tr>\n",
       "      <th>1</th>\n",
       "      <td>Male</td>\n",
       "      <td>A</td>\n",
       "      <td>1.000000</td>\n",
       "      <td>85.0</td>\n",
       "      <td>66.0</td>\n",
       "      <td>29.000000</td>\n",
       "      <td>63.074392</td>\n",
       "      <td>26.6</td>\n",
       "      <td>0.351000</td>\n",
       "      <td>31.0</td>\n",
       "      <td>0</td>\n",
       "    </tr>\n",
       "    <tr>\n",
       "      <th>2</th>\n",
       "      <td>Female</td>\n",
       "      <td>B</td>\n",
       "      <td>8.000000</td>\n",
       "      <td>183.0</td>\n",
       "      <td>64.0</td>\n",
       "      <td>20.303155</td>\n",
       "      <td>63.074392</td>\n",
       "      <td>23.3</td>\n",
       "      <td>0.672000</td>\n",
       "      <td>32.0</td>\n",
       "      <td>1</td>\n",
       "    </tr>\n",
       "    <tr>\n",
       "      <th>3</th>\n",
       "      <td>Male</td>\n",
       "      <td>A</td>\n",
       "      <td>1.000000</td>\n",
       "      <td>89.0</td>\n",
       "      <td>66.0</td>\n",
       "      <td>23.000000</td>\n",
       "      <td>94.000000</td>\n",
       "      <td>28.1</td>\n",
       "      <td>0.167000</td>\n",
       "      <td>21.0</td>\n",
       "      <td>0</td>\n",
       "    </tr>\n",
       "    <tr>\n",
       "      <th>4</th>\n",
       "      <td>Male</td>\n",
       "      <td>AB</td>\n",
       "      <td>3.793388</td>\n",
       "      <td>137.0</td>\n",
       "      <td>40.0</td>\n",
       "      <td>35.000000</td>\n",
       "      <td>168.000000</td>\n",
       "      <td>43.1</td>\n",
       "      <td>0.431823</td>\n",
       "      <td>33.0</td>\n",
       "      <td>1</td>\n",
       "    </tr>\n",
       "  </tbody>\n",
       "</table>\n",
       "</div>"
      ],
      "text/plain": [
       "   gender blood_type  pregnancies  glucose  diastolic    triceps     insulin  \\\n",
       "0    Male          A     6.000000    148.0       72.0  35.000000   63.074392   \n",
       "1    Male          A     1.000000     85.0       66.0  29.000000   63.074392   \n",
       "2  Female          B     8.000000    183.0       64.0  20.303155   63.074392   \n",
       "3    Male          A     1.000000     89.0       66.0  23.000000   94.000000   \n",
       "4    Male         AB     3.793388    137.0       40.0  35.000000  168.000000   \n",
       "\n",
       "    bmi       dpf   age  Outcome  \n",
       "0  33.6  0.627000  50.0        1  \n",
       "1  26.6  0.351000  31.0        0  \n",
       "2  23.3  0.672000  32.0        1  \n",
       "3  28.1  0.167000  21.0        0  \n",
       "4  43.1  0.431823  33.0        1  "
      ]
     },
     "execution_count": 348,
     "metadata": {},
     "output_type": "execute_result"
    }
   ],
   "source": [
    "#encore une save ?\"\n",
    "data_treat3 = data_treat2\n",
    "data_treat3.head()"
   ]
  },
  {
   "cell_type": "code",
   "execution_count": 303,
   "id": "586dc22b",
   "metadata": {},
   "outputs": [
    {
     "data": {
      "text/plain": [
       "mal     519\n",
       "Male    211\n",
       "Name: gender, dtype: int64"
      ]
     },
     "execution_count": 303,
     "metadata": {},
     "output_type": "execute_result"
    }
   ],
   "source": [
    "#np.where ne fonctionne pas, en plus d'etre dangereux. 10 fois que ça dértuit l'intégrité de mon dataframe.\n",
    "#il faut une autre méthode\n",
    "#n'éxecutez pas cette celule, ou toute la colonne gender sera compromise\n",
    "'''\n",
    "data_treat3['gender'] = np.where((data_treat3['gender'] == \"Male\") and ( (data_treat3['gender'] != 'Female')), \"Make\", \"Male\")\n",
    "data_treat3['gender'] = np.where((data_treat3['gender'] == \"Male\") and ( (data_treat3['gender'] != 'Female')), \"Mile\", \"Male\")\n",
    "data_treat3['gender'] = np.where((data_treat3['gender'] == \"Male\") and ( (data_treat3['gender'] != 'Female')), \"mal\", \"Male\")\n",
    "\n",
    "data_treat3['gender'] = np.where((data_treat3['gender'] != \"Male\") and ( (data_treat3['gender'] == 'Female')), \"female\", \"Female\")\n",
    "data_treat3['gender'] = np.where((data_treat3['gender'] != \"Male\") and ( (data_treat3['gender'] == 'Female')), \"Femali\", \"Female\")\n",
    "data_treat3['gender'] = np.where((data_treat3['gender'] != \"Male\") and ( (data_treat3['gender'] == 'Female')), \"Femal\", \"Female\")\n",
    "\n",
    "data_treat3['gender'].value_counts()\n",
    "'''\n"
   ]
  },
  {
   "cell_type": "code",
   "execution_count": 365,
   "id": "5f86cc26",
   "metadata": {},
   "outputs": [
    {
     "data": {
      "text/plain": [
       "Male      524\n",
       "Female    206\n",
       "Name: gender, dtype: int64"
      ]
     },
     "execution_count": 365,
     "metadata": {},
     "output_type": "execute_result"
    }
   ],
   "source": [
    "#une méthode bien plus sure que np.where\n",
    " \n",
    "data_treat3['gender'] = data_treat3['gender'].replace(\"Make\", \"Male\")\n",
    "data_treat3['gender'] = data_treat3['gender'].replace(\"Mile\", \"Male\")\n",
    "data_treat3['gender'] = data_treat3['gender'].replace(\"mal\", \"Male\") \n",
    "data_treat3['gender'] = data_treat3['gender'].replace(\"female\", \"Female\")  \n",
    "data_treat3['gender'] = data_treat3['gender'].replace(\"Femali\", \"Female\")  \n",
    "data_treat3['gender'] = data_treat3['gender'].replace(\"Femal\", \"Female\")  \n",
    "\n",
    "data_treat3['gender'].value_counts()"
   ]
  },
  {
   "cell_type": "code",
   "execution_count": 366,
   "id": "463362c2",
   "metadata": {},
   "outputs": [
    {
     "data": {
      "text/plain": [
       "Male      524\n",
       "Female    206\n",
       "Name: gender, dtype: int64"
      ]
     },
     "execution_count": 366,
     "metadata": {},
     "output_type": "execute_result"
    }
   ],
   "source": [
    "data_treated = data_treat3\n",
    "data_treated['gender'].value_counts()"
   ]
  },
  {
   "cell_type": "code",
   "execution_count": 367,
   "id": "03718ea2",
   "metadata": {},
   "outputs": [],
   "source": [
    "#dropna sur data_treated : Dropez les lignes ont des valeurs sont des Nan\n",
    "data_treated = data_treated.dropna()"
   ]
  },
  {
   "cell_type": "code",
   "execution_count": 380,
   "id": "b008e400",
   "metadata": {},
   "outputs": [
    {
     "data": {
      "text/html": [
       "<div>\n",
       "<style scoped>\n",
       "    .dataframe tbody tr th:only-of-type {\n",
       "        vertical-align: middle;\n",
       "    }\n",
       "\n",
       "    .dataframe tbody tr th {\n",
       "        vertical-align: top;\n",
       "    }\n",
       "\n",
       "    .dataframe thead th {\n",
       "        text-align: right;\n",
       "    }\n",
       "</style>\n",
       "<table border=\"1\" class=\"dataframe\">\n",
       "  <thead>\n",
       "    <tr style=\"text-align: right;\">\n",
       "      <th></th>\n",
       "      <th>gender</th>\n",
       "      <th>blood_type</th>\n",
       "      <th>pregnancies</th>\n",
       "      <th>glucose</th>\n",
       "      <th>diastolic</th>\n",
       "      <th>triceps</th>\n",
       "      <th>insulin</th>\n",
       "      <th>bmi</th>\n",
       "      <th>dpf</th>\n",
       "      <th>age</th>\n",
       "      <th>Outcome</th>\n",
       "    </tr>\n",
       "  </thead>\n",
       "  <tbody>\n",
       "    <tr>\n",
       "      <th>0</th>\n",
       "      <td>1</td>\n",
       "      <td>0</td>\n",
       "      <td>6.000000</td>\n",
       "      <td>148.0</td>\n",
       "      <td>72.0</td>\n",
       "      <td>35.000000</td>\n",
       "      <td>63.074392</td>\n",
       "      <td>33.6</td>\n",
       "      <td>0.627000</td>\n",
       "      <td>50.0</td>\n",
       "      <td>1</td>\n",
       "    </tr>\n",
       "    <tr>\n",
       "      <th>1</th>\n",
       "      <td>1</td>\n",
       "      <td>0</td>\n",
       "      <td>1.000000</td>\n",
       "      <td>85.0</td>\n",
       "      <td>66.0</td>\n",
       "      <td>29.000000</td>\n",
       "      <td>63.074392</td>\n",
       "      <td>26.6</td>\n",
       "      <td>0.351000</td>\n",
       "      <td>31.0</td>\n",
       "      <td>0</td>\n",
       "    </tr>\n",
       "    <tr>\n",
       "      <th>2</th>\n",
       "      <td>0</td>\n",
       "      <td>4</td>\n",
       "      <td>8.000000</td>\n",
       "      <td>183.0</td>\n",
       "      <td>64.0</td>\n",
       "      <td>20.303155</td>\n",
       "      <td>63.074392</td>\n",
       "      <td>23.3</td>\n",
       "      <td>0.672000</td>\n",
       "      <td>32.0</td>\n",
       "      <td>1</td>\n",
       "    </tr>\n",
       "    <tr>\n",
       "      <th>3</th>\n",
       "      <td>1</td>\n",
       "      <td>0</td>\n",
       "      <td>1.000000</td>\n",
       "      <td>89.0</td>\n",
       "      <td>66.0</td>\n",
       "      <td>23.000000</td>\n",
       "      <td>94.000000</td>\n",
       "      <td>28.1</td>\n",
       "      <td>0.167000</td>\n",
       "      <td>21.0</td>\n",
       "      <td>0</td>\n",
       "    </tr>\n",
       "    <tr>\n",
       "      <th>4</th>\n",
       "      <td>1</td>\n",
       "      <td>2</td>\n",
       "      <td>3.793388</td>\n",
       "      <td>137.0</td>\n",
       "      <td>40.0</td>\n",
       "      <td>35.000000</td>\n",
       "      <td>168.000000</td>\n",
       "      <td>43.1</td>\n",
       "      <td>0.431823</td>\n",
       "      <td>33.0</td>\n",
       "      <td>1</td>\n",
       "    </tr>\n",
       "  </tbody>\n",
       "</table>\n",
       "</div>"
      ],
      "text/plain": [
       "   gender  blood_type  pregnancies  glucose  diastolic    triceps     insulin  \\\n",
       "0       1           0     6.000000    148.0       72.0  35.000000   63.074392   \n",
       "1       1           0     1.000000     85.0       66.0  29.000000   63.074392   \n",
       "2       0           4     8.000000    183.0       64.0  20.303155   63.074392   \n",
       "3       1           0     1.000000     89.0       66.0  23.000000   94.000000   \n",
       "4       1           2     3.793388    137.0       40.0  35.000000  168.000000   \n",
       "\n",
       "    bmi       dpf   age  Outcome  \n",
       "0  33.6  0.627000  50.0        1  \n",
       "1  26.6  0.351000  31.0        0  \n",
       "2  23.3  0.672000  32.0        1  \n",
       "3  28.1  0.167000  21.0        0  \n",
       "4  43.1  0.431823  33.0        1  "
      ]
     },
     "execution_count": 380,
     "metadata": {},
     "output_type": "execute_result"
    }
   ],
   "source": [
    "#encodage\n",
    "#import des librairies\n",
    "from sklearn import preprocessing\n",
    "le = preprocessing.LabelEncoder()\n",
    "\n",
    "#on ne peut pas passer column comme argument d'une fonction sans générer d'erreur, donc je ne le ferai pas.\n",
    "\n",
    "#encodage : \n",
    "def encode_moi(df):\n",
    "\n",
    "for var in df.select_dtypes(include='object').columns:\n",
    "    df[var].to_csv(\"midterm.csv\")\n",
    "    df[var] = le.fit_transform(df[var])\n",
    "    \n",
    "    return df\n",
    "\n",
    "\n",
    "    \n",
    "\n",
    "#vérifier si toutes les colonnes sont bien numérisées :\n",
    "data_treated = encode_moi(data_treated)\n",
    "data_treated.head()"
   ]
  },
  {
   "cell_type": "code",
   "execution_count": 381,
   "id": "6568932e",
   "metadata": {},
   "outputs": [],
   "source": [
    "#Diviser le set de données en deux. D’un côté la colonne « Outcome » dans un dataframe nommé y.\n",
    "#De l’autre toutes les autres colonnes dans un dataframe nommé x.\n",
    "y = data_treated['Outcome']\n",
    "x = data_treated.drop('Outcome', axis = 1)"
   ]
  },
  {
   "cell_type": "code",
   "execution_count": 384,
   "id": "7e0eb43e",
   "metadata": {},
   "outputs": [
    {
     "name": "stdout",
     "output_type": "stream",
     "text": [
      "Accuracy: 68.4931506849315\n"
     ]
    }
   ],
   "source": [
    "# -*- coding: utf-8 -*-\n",
    "from sklearn.tree import DecisionTreeClassifier # Import Decision Tree Classifier\n",
    "from sklearn.model_selection import train_test_split # Import train_test_split function\n",
    "\n",
    "# Split the dataset into two categories:\n",
    "# train : Dataset used to train the model\n",
    "# test : Dataset to check if our trained model is accurate or not\n",
    "x_train, x_test, y_train, y_test = train_test_split(x, y, test_size=0.2, random_state=1)\n",
    "\n",
    "# Create Decision Tree classifer object\n",
    "model = DecisionTreeClassifier()\n",
    "\n",
    "# Train Decision Tree Classifer\n",
    "model = model.fit(x_train,y_train)\n",
    "\n",
    "#Predict the response for test dataset\n",
    "y_pred = model.predict(x_test)\n",
    "\n",
    "\n",
    "#Evaluation using Accuracy score\n",
    "from sklearn import metrics #Import scikit-learn metrics module for accuracy calculation\n",
    "print(\"Accuracy:\",metrics.accuracy_score(y_test, y_pred)*100)"
   ]
  },
  {
   "cell_type": "code",
   "execution_count": 385,
   "id": "b4ddbb22",
   "metadata": {},
   "outputs": [
    {
     "data": {
      "text/plain": [
       "<AxesSubplot:>"
      ]
     },
     "execution_count": 385,
     "metadata": {},
     "output_type": "execute_result"
    },
    {
     "data": {
      "image/png": "[encoded data removed]",
      "text/plain": [
       "<Figure size 432x288 with 1 Axes>"
      ]
     },
     "metadata": {
      "needs_background": "light"
     },
     "output_type": "display_data"
    }
   ],
   "source": [
    "x_train = pd.DataFrame(x_train)\n",
    "\n",
    "pd.DataFrame(model.feature_importances_, index= x_train.columns).plot.bar()"
   ]
  },
  {
   "cell_type": "code",
   "execution_count": 387,
   "id": "75a01f54",
   "metadata": {},
   "outputs": [
    {
     "data": {
      "text/plain": [
       "<AxesSubplot:>"
      ]
     },
     "execution_count": 387,
     "metadata": {},
     "output_type": "execute_result"
    },
    {
     "data": {
      "image/png": "[encoded data removed]",
      "text/plain": [
       "<Figure size 770.4x595.44 with 2 Axes>"
      ]
     },
     "metadata": {},
     "output_type": "display_data"
    }
   ],
   "source": [
    "#matrice de corrélation en \"heatmap\" :\n",
    "Var_Corr = x_train.corr()\n",
    "sns.set(rc={'figure.figsize':(10.7,8.27)})\n",
    "sns.heatmap(Var_Corr, xticklabels=Var_Corr.columns, yticklabels=Var_Corr.columns, annot=True)"
   ]
  }
 ],
 "metadata": {
  "kernelspec": {
   "display_name": "Python 3 (ipykernel)",
   "language": "python",
   "name": "python3"
  },
  "language_info": {
   "codemirror_mode": {
    "name": "ipython",
    "version": 3
   },
   "file_extension": ".py",
   "mimetype": "text/x-python",
   "name": "python",
   "nbconvert_exporter": "python",
   "pygments_lexer": "ipython3",
   "version": "3.9.12"
  }
 },
 "nbformat": 4,
 "nbformat_minor": 5
}
